{
  "nbformat": 4,
  "nbformat_minor": 0,
  "metadata": {
    "colab": {
      "name": "Tax with HRA.ipynb",
      "provenance": []
    },
    "kernelspec": {
      "name": "python3",
      "display_name": "Python 3"
    },
    "language_info": {
      "name": "python"
    }
  },
  "cells": [
    {
      "cell_type": "code",
      "execution_count": 16,
      "metadata": {
        "colab": {
          "base_uri": "https://localhost:8080/"
        },
        "id": "NSHQyBZMOq-J",
        "outputId": "a69e494d-a10e-4c9e-d547-74f447a0ec70"
      },
      "outputs": [
        {
          "output_type": "stream",
          "name": "stdout",
          "text": [
            " Enter your basic salary :260000\n",
            "Enter your house rent allowence :222\n",
            "Enter specialallowence :111\n",
            "Enter travel allowence5558\n",
            "500.0 Tax Payable amount\n"
          ]
        }
      ],
      "source": [
        " import matplotlib.pyplot as plt\n",
        " import numpy as np\n",
        " bs=int(input(\" Enter your basic salary :\"))\n",
        " hra=int(input(\"Enter your house rent allowence :\"))\n",
        " sa=int(input(\"Enter specialallowence :\"))\n",
        " lta=int(input(\"Enter travel allowence\"))\n",
        " \n",
        " if bs < 250000:\n",
        "   print(\"NO Tax\")\n",
        " elif bs>250001 and bs<500000:\n",
        "  tax=(bs-250000)*5/100\n",
        "  print(tax,\"Tax Payable amount\")\n",
        " elif bs>500001 and bs<750000:\n",
        "  t=(bs-250000)*7/100\n",
        "  print(t,\"Tax Payable amount\")\n",
        " elif bs>750001 and bs<1000000:\n",
        "  i=(bs-250000)*10/100\n",
        "  print(i,\"Tax Payable amount\")\n",
        " else: \n",
        "  g=(bs-250000)*30/100\n",
        "  print(g,\"Tax Payabel amount\")"
      ]
    },
    {
      "cell_type": "code",
      "execution_count": null,
      "metadata": {
        "colab": {
          "base_uri": "https://localhost:8080/"
        },
        "outputId": "a69e494d-a10e-4c9e-d547-74f447a0ec70",
        "id": "NqgjigvNZQnT"
      },
      "outputs": [
        {
          "output_type": "stream",
          "name": "stdout",
          "text": [
            " Enter your basic salary :260000\n",
            "Enter your house rent allowence :222\n",
            "Enter specialallowence :111\n",
            "Enter travel allowence5558\n",
            "500.0 Tax Payable amount\n"
          ]
        }
      ],
      "source": [
        " import matplotlib.pyplot as plt\n",
        " import numpy as np\n",
        " bs=int(input(\" Enter your basic salary :\"))\n",
        " hra=int(input(\"Enter your house rent allowence :\"))\n",
        " sa=int(input(\"Enter specialallowence :\"))\n",
        " lta=int(input(\"Enter travel allowence\"))\n",
        " \n",
        " if bs < 250000:\n",
        "   print(\"NO Tax\")\n",
        " elif bs>250001 and bs<500000:\n",
        "  tax=(bs-250000)*5/100\n",
        "  print(tax,\"Tax Payable amount\")\n",
        " elif bs>500001 and bs<750000:\n",
        "  t=(bs-250000)*7/100\n",
        "  print(t,\"Tax Payable amount\")\n",
        " elif bs>750001 and bs<1000000:\n",
        "  i=(bs-250000)*10/100\n",
        "  print(i,\"Tax Payable amount\")\n",
        " else: \n",
        "  g=(bs-250000)*30/100\n",
        "  print(g,\"Tax Payabel amount\")"
      ]
    },
    {
      "cell_type": "code",
      "execution_count": null,
      "metadata": {
        "colab": {
          "base_uri": "https://localhost:8080/"
        },
        "outputId": "a69e494d-a10e-4c9e-d547-74f447a0ec70",
        "id": "AV-btQ7LZSJX"
      },
      "outputs": [
        {
          "output_type": "stream",
          "name": "stdout",
          "text": [
            " Enter your basic salary :260000\n",
            "Enter your house rent allowence :222\n",
            "Enter specialallowence :111\n",
            "Enter travel allowence5558\n",
            "500.0 Tax Payable amount\n"
          ]
        }
      ],
      "source": [
        " import matplotlib.pyplot as plt\n",
        " import numpy as np\n",
        " bs=int(input(\" Enter your basic salary :\"))\n",
        " hra=int(input(\"Enter your house rent allowence :\"))\n",
        " sa=int(input(\"Enter specialallowence :\"))\n",
        " lta=int(input(\"Enter travel allowence\"))\n",
        " tax=(bs-250000)*5/100\n",
        " t=(bs-250000)*7/100\n",
        " \n",
        " if bs < 250000:\n",
        "   print(\"NO Tax\")\n",
        " elif bs>250001 and bs<500000:\n",
        "  tax=(bs-250000)*5/100\n",
        "  print(tax,\"Tax Payable amount\")\n",
        " elif bs>500001 and bs<750000:\n",
        "  t=(bs-250000)*7/100\n",
        "  print(t,\"Tax Payable amount\")\n",
        " elif bs>750001 and bs<1000000:\n",
        "  i=(bs-250000)*10/100\n",
        "  print(i,\"Tax Payable amount\")\n",
        " else: \n",
        "  g=(bs-250000)*30/100\n",
        "  print(g,\"Tax Payabel amount\")"
      ]
    },
    {
      "cell_type": "code",
      "execution_count": 44,
      "metadata": {
        "colab": {
          "base_uri": "https://localhost:8080/"
        },
        "outputId": "2450cc09-5722-43eb-eca8-131372d03773",
        "id": "vvW0cy9FZdsX"
      },
      "outputs": [
        {
          "output_type": "stream",
          "name": "stdout",
          "text": [
            " Enter your basic salary :300000\n",
            "Enter your house rent allowence :310000\n",
            "Enter specialallowence :1540\n",
            "Enter travel allowence1250\n",
            "2500.0 Tax Payable amount\n",
            "31000.0 HRA TAx\n"
          ]
        }
      ],
      "source": [
        " import matplotlib.pyplot as plt\n",
        " import numpy as np\n",
        " bs=int(input(\" Enter your basic salary :\"))\n",
        " hra=int(input(\"Enter your house rent allowence :\"))\n",
        " sa=int(input(\"Enter specialallowence :\"))\n",
        " lta=int(input(\"Enter travel allowence\"))\n",
        " t1=(bs-250000)*(5/100)\n",
        " t2=(bs-500000)*(10/100)+ 250000*(5/100)\n",
        " i1=(bs-750000)*(20/100)+500000*(10/100)+ 250000*(5/100)\n",
        " g1=(bs-1000000)*(30/100)+55750000*(20/100)+500000*(10/100)+250000*(5/100)\n",
        " if bs < 250000:\n",
        "   print(\"NO Tax\")\n",
        " elif bs>250001 and bs<500000:\n",
        "  tax=t1\n",
        "  print(tax,\"Tax Payable amount\")\n",
        " elif bs>500001 and bs<750000:\n",
        "  \n",
        "   print(t2,\"Tax Payable amount\")\n",
        " elif bs>750001 and bs<1000000:\n",
        " \n",
        "   print(i1,\"Tax Payable amount\")\n",
        " else: \n",
        "   \n",
        "   print(g1,\"Tax Payabel amount\")\n",
        " if hra > bs:\n",
        "   t3=hra*10/100\n",
        "   print(t3,\"HRA TAx\")\n"
      ]
    },
    {
      "cell_type": "code",
      "source": [
        ""
      ],
      "metadata": {
        "id": "9DUwSO3rj2zk"
      },
      "execution_count": null,
      "outputs": []
    }
  ]
}