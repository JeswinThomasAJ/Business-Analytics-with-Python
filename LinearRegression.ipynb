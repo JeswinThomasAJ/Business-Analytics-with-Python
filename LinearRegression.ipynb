{
  "nbformat": 4,
  "nbformat_minor": 0,
  "metadata": {
    "colab": {
      "provenance": []
    },
    "kernelspec": {
      "name": "python3",
      "display_name": "Python 3"
    },
    "language_info": {
      "name": "python"
    }
  },
  "cells": [
    {
      "cell_type": "code",
      "execution_count": 4,
      "metadata": {
        "colab": {
          "base_uri": "https://localhost:8080/",
          "height": 424
        },
        "id": "TwyMf85hHgXi",
        "outputId": "5995f2b1-d51e-4eb0-99a7-cde6f965d8fa"
      },
      "outputs": [
        {
          "output_type": "execute_result",
          "data": {
            "text/plain": [
              "      Date        Open\n",
              "0      1.0  183.899994\n",
              "1      2.0  184.470001\n",
              "2      3.0  183.830002\n",
              "3      4.0  177.070007\n",
              "4      5.0  178.220001\n",
              "..     ...         ...\n",
              "246  247.0  142.080002\n",
              "247  248.0  140.160004\n",
              "248  249.0  138.699997\n",
              "249  250.0  139.029999\n",
              "250  251.0  137.199997\n",
              "\n",
              "[251 rows x 2 columns]"
            ],
            "text/html": [
              "\n",
              "  <div id=\"df-be1a5e04-842c-4b63-ac8c-49442cf801f2\">\n",
              "    <div class=\"colab-df-container\">\n",
              "      <div>\n",
              "<style scoped>\n",
              "    .dataframe tbody tr th:only-of-type {\n",
              "        vertical-align: middle;\n",
              "    }\n",
              "\n",
              "    .dataframe tbody tr th {\n",
              "        vertical-align: top;\n",
              "    }\n",
              "\n",
              "    .dataframe thead th {\n",
              "        text-align: right;\n",
              "    }\n",
              "</style>\n",
              "<table border=\"1\" class=\"dataframe\">\n",
              "  <thead>\n",
              "    <tr style=\"text-align: right;\">\n",
              "      <th></th>\n",
              "      <th>Date</th>\n",
              "      <th>Open</th>\n",
              "    </tr>\n",
              "  </thead>\n",
              "  <tbody>\n",
              "    <tr>\n",
              "      <th>0</th>\n",
              "      <td>1.0</td>\n",
              "      <td>183.899994</td>\n",
              "    </tr>\n",
              "    <tr>\n",
              "      <th>1</th>\n",
              "      <td>2.0</td>\n",
              "      <td>184.470001</td>\n",
              "    </tr>\n",
              "    <tr>\n",
              "      <th>2</th>\n",
              "      <td>3.0</td>\n",
              "      <td>183.830002</td>\n",
              "    </tr>\n",
              "    <tr>\n",
              "      <th>3</th>\n",
              "      <td>4.0</td>\n",
              "      <td>177.070007</td>\n",
              "    </tr>\n",
              "    <tr>\n",
              "      <th>4</th>\n",
              "      <td>5.0</td>\n",
              "      <td>178.220001</td>\n",
              "    </tr>\n",
              "    <tr>\n",
              "      <th>...</th>\n",
              "      <td>...</td>\n",
              "      <td>...</td>\n",
              "    </tr>\n",
              "    <tr>\n",
              "      <th>246</th>\n",
              "      <td>247.0</td>\n",
              "      <td>142.080002</td>\n",
              "    </tr>\n",
              "    <tr>\n",
              "      <th>247</th>\n",
              "      <td>248.0</td>\n",
              "      <td>140.160004</td>\n",
              "    </tr>\n",
              "    <tr>\n",
              "      <th>248</th>\n",
              "      <td>249.0</td>\n",
              "      <td>138.699997</td>\n",
              "    </tr>\n",
              "    <tr>\n",
              "      <th>249</th>\n",
              "      <td>250.0</td>\n",
              "      <td>139.029999</td>\n",
              "    </tr>\n",
              "    <tr>\n",
              "      <th>250</th>\n",
              "      <td>251.0</td>\n",
              "      <td>137.199997</td>\n",
              "    </tr>\n",
              "  </tbody>\n",
              "</table>\n",
              "<p>251 rows × 2 columns</p>\n",
              "</div>\n",
              "      <button class=\"colab-df-convert\" onclick=\"convertToInteractive('df-be1a5e04-842c-4b63-ac8c-49442cf801f2')\"\n",
              "              title=\"Convert this dataframe to an interactive table.\"\n",
              "              style=\"display:none;\">\n",
              "        \n",
              "  <svg xmlns=\"http://www.w3.org/2000/svg\" height=\"24px\"viewBox=\"0 0 24 24\"\n",
              "       width=\"24px\">\n",
              "    <path d=\"M0 0h24v24H0V0z\" fill=\"none\"/>\n",
              "    <path d=\"M18.56 5.44l.94 2.06.94-2.06 2.06-.94-2.06-.94-.94-2.06-.94 2.06-2.06.94zm-11 1L8.5 8.5l.94-2.06 2.06-.94-2.06-.94L8.5 2.5l-.94 2.06-2.06.94zm10 10l.94 2.06.94-2.06 2.06-.94-2.06-.94-.94-2.06-.94 2.06-2.06.94z\"/><path d=\"M17.41 7.96l-1.37-1.37c-.4-.4-.92-.59-1.43-.59-.52 0-1.04.2-1.43.59L10.3 9.45l-7.72 7.72c-.78.78-.78 2.05 0 2.83L4 21.41c.39.39.9.59 1.41.59.51 0 1.02-.2 1.41-.59l7.78-7.78 2.81-2.81c.8-.78.8-2.07 0-2.86zM5.41 20L4 18.59l7.72-7.72 1.47 1.35L5.41 20z\"/>\n",
              "  </svg>\n",
              "      </button>\n",
              "      \n",
              "  <style>\n",
              "    .colab-df-container {\n",
              "      display:flex;\n",
              "      flex-wrap:wrap;\n",
              "      gap: 12px;\n",
              "    }\n",
              "\n",
              "    .colab-df-convert {\n",
              "      background-color: #E8F0FE;\n",
              "      border: none;\n",
              "      border-radius: 50%;\n",
              "      cursor: pointer;\n",
              "      display: none;\n",
              "      fill: #1967D2;\n",
              "      height: 32px;\n",
              "      padding: 0 0 0 0;\n",
              "      width: 32px;\n",
              "    }\n",
              "\n",
              "    .colab-df-convert:hover {\n",
              "      background-color: #E2EBFA;\n",
              "      box-shadow: 0px 1px 2px rgba(60, 64, 67, 0.3), 0px 1px 3px 1px rgba(60, 64, 67, 0.15);\n",
              "      fill: #174EA6;\n",
              "    }\n",
              "\n",
              "    [theme=dark] .colab-df-convert {\n",
              "      background-color: #3B4455;\n",
              "      fill: #D2E3FC;\n",
              "    }\n",
              "\n",
              "    [theme=dark] .colab-df-convert:hover {\n",
              "      background-color: #434B5C;\n",
              "      box-shadow: 0px 1px 3px 1px rgba(0, 0, 0, 0.15);\n",
              "      filter: drop-shadow(0px 1px 2px rgba(0, 0, 0, 0.3));\n",
              "      fill: #FFFFFF;\n",
              "    }\n",
              "  </style>\n",
              "\n",
              "      <script>\n",
              "        const buttonEl =\n",
              "          document.querySelector('#df-be1a5e04-842c-4b63-ac8c-49442cf801f2 button.colab-df-convert');\n",
              "        buttonEl.style.display =\n",
              "          google.colab.kernel.accessAllowed ? 'block' : 'none';\n",
              "\n",
              "        async function convertToInteractive(key) {\n",
              "          const element = document.querySelector('#df-be1a5e04-842c-4b63-ac8c-49442cf801f2');\n",
              "          const dataTable =\n",
              "            await google.colab.kernel.invokeFunction('convertToInteractive',\n",
              "                                                     [key], {});\n",
              "          if (!dataTable) return;\n",
              "\n",
              "          const docLinkHtml = 'Like what you see? Visit the ' +\n",
              "            '<a target=\"_blank\" href=https://colab.research.google.com/notebooks/data_table.ipynb>data table notebook</a>'\n",
              "            + ' to learn more about interactive tables.';\n",
              "          element.innerHTML = '';\n",
              "          dataTable['output_type'] = 'display_data';\n",
              "          await google.colab.output.renderOutput(dataTable, element);\n",
              "          const docLink = document.createElement('div');\n",
              "          docLink.innerHTML = docLinkHtml;\n",
              "          element.appendChild(docLink);\n",
              "        }\n",
              "      </script>\n",
              "    </div>\n",
              "  </div>\n",
              "  "
            ]
          },
          "metadata": {},
          "execution_count": 4
        }
      ],
      "source": [
        "import pandas as pd\n",
        "import numpy as np\n",
        "import matplotlib.pyplot as plt\n",
        "dataset=pd.read_csv(\"TM.csv\")\n",
        "dataset\n"
      ]
    },
    {
      "cell_type": "code",
      "source": [
        "x=dataset.iloc[:,:-1].values\n",
        "y=dataset.iloc[:,1].values\n",
        "x\n",
        "y"
      ],
      "metadata": {
        "colab": {
          "base_uri": "https://localhost:8080/"
        },
        "id": "_ccWEK-GJnVR",
        "outputId": "c4ae8299-3836-4b93-9373-1b0a668979ae"
      },
      "execution_count": 8,
      "outputs": [
        {
          "output_type": "execute_result",
          "data": {
            "text/plain": [
              "array([183.899994, 184.470001, 183.830002, 177.070007, 178.220001,\n",
              "       170.839996, 163.759995, 159.009995, 164.210007, 165.380005,\n",
              "       160.740005, 162.5     , 165.199997, 169.880005, 170.050003,\n",
              "       170.970001, 171.899994, 171.800003, 176.979996, 180.080002,\n",
              "       179.869995, 178.270004, 183.740005, 182.25    , 181.820007,\n",
              "       180.309998, 181.      , 181.5     , 176.300003, 174.509995,\n",
              "       170.      , 169.740005, 166.919998, 166.809998, 169.300003,\n",
              "       169.479996, 170.      , 175.690002, 177.089996, 172.470001,\n",
              "       169.979996, 169.559998, 167.5     , 170.649994, 172.889999,\n",
              "       170.369995, 170.699997, 172.020004, 173.479996, 173.080002,\n",
              "       170.490005, 168.850006, 161.449997, 157.199997, 159.949997,\n",
              "       159.429993, 159.130005, 158.440002, 155.259995, 159.190002,\n",
              "       160.570007, 160.440002, 159.649994, 164.      , 165.419998,\n",
              "       167.210007, 169.669998, 169.160004, 166.119995, 167.279999,\n",
              "       164.809998, 166.449997, 166.029999, 162.5     , 157.600006,\n",
              "       155.5     , 155.089996, 156.440002, 154.149994, 157.320007,\n",
              "       156.929993, 157.850006, 157.880005, 157.690002, 159.259995,\n",
              "       156.399994, 153.660004, 152.889999, 153.149994, 153.610001,\n",
              "       155.110001, 156.419998, 156.600006, 154.660004, 154.050003,\n",
              "       154.419998, 155.690002, 157.      , 159.169998, 159.600006,\n",
              "       158.529999, 160.589996, 160.050003, 158.809998, 158.929993,\n",
              "       158.699997, 159.949997, 165.580002, 164.300003, 162.839996,\n",
              "       157.25    , 157.610001, 157.      , 155.      , 156.      ,\n",
              "       158.880005, 160.050003, 160.899994, 159.300003, 160.080002,\n",
              "       159.479996, 157.669998, 155.600006, 153.740005, 153.399994,\n",
              "       155.      , 155.149994, 151.220001, 152.649994, 150.550003,\n",
              "       147.610001, 147.550003, 145.      , 141.990005, 142.610001,\n",
              "       146.029999, 144.660004, 142.490005, 141.539993, 141.160004,\n",
              "       140.320007, 140.119995, 141.600006, 139.5     , 140.720001,\n",
              "       137.600006, 136.130005, 136.889999, 134.759995, 135.110001,\n",
              "       134.210007, 134.149994, 138.350006, 137.539993, 136.350006,\n",
              "       136.330002, 135.759995, 134.119995, 135.550003, 133.270004,\n",
              "       136.399994, 135.850006, 135.259995, 133.580002, 133.639999,\n",
              "       131.690002, 133.630005, 135.880005, 136.889999, 137.050003,\n",
              "       137.679993, 138.580002, 138.      , 136.649994, 135.190002,\n",
              "       136.      , 136.830002, 137.360001, 136.      , 137.589996,\n",
              "       142.169998, 142.279999, 144.679993, 143.149994, 141.210007,\n",
              "       143.080002, 142.779999, 144.630005, 146.059998, 147.      ,\n",
              "       146.839996, 145.259995, 145.440002, 147.220001, 145.559998,\n",
              "       144.759995, 142.880005, 141.75    , 142.      , 142.490005,\n",
              "       143.619995, 146.839996, 146.009995, 143.220001, 140.279999,\n",
              "       140.      , 138.889999, 137.110001, 138.279999, 137.039993,\n",
              "       136.119995, 136.      , 135.940002, 136.880005, 137.960007,\n",
              "       138.210007, 135.720001, 136.139999, 139.309998, 139.      ,\n",
              "       139.669998, 142.259995, 140.419998, 144.649994, 148.      ,\n",
              "       144.880005, 144.919998, 145.770004, 150.399994, 145.979996,\n",
              "       145.520004, 146.      , 146.      , 146.300003, 146.580002,\n",
              "       147.      , 145.619995, 144.      , 143.520004, 144.      ,\n",
              "       146.360001, 143.669998, 142.949997, 142.800003, 140.410004,\n",
              "       141.399994, 142.080002, 140.160004, 138.699997, 139.029999,\n",
              "       137.199997])"
            ]
          },
          "metadata": {},
          "execution_count": 8
        }
      ]
    },
    {
      "cell_type": "code",
      "source": [
        "from sklearn.linear_model import LinearRegression\n",
        "regressor=LinearRegression()\n",
        "regressor.fit(x,y)\n",
        "y_pred=regressor.predict(x)\n",
        "y_pred\n",
        "plt.plot(x,y,color=\"red\")\n",
        "plt.scatter(x,y_pred,color=\"blue\")\n",
        "plt.xlabel(\"Days\")\n",
        "plt.ylabel(\"Price of Share\")\n",
        "plt.title(\"Toyota Motors\")\n"
      ],
      "metadata": {
        "colab": {
          "base_uri": "https://localhost:8080/",
          "height": 312
        },
        "id": "q4Kb_TtiKBFJ",
        "outputId": "b07a888b-2dee-4835-ae3e-cdc18f80dc26"
      },
      "execution_count": 17,
      "outputs": [
        {
          "output_type": "execute_result",
          "data": {
            "text/plain": [
              "Text(0.5, 1.0, 'Toyota Motors')"
            ]
          },
          "metadata": {},
          "execution_count": 17
        },
        {
          "output_type": "display_data",
          "data": {
            "text/plain": [
              "<Figure size 432x288 with 1 Axes>"
            ],
            "image/png": "[encoded data removed]"
          },
          "metadata": {
            "needs_background": "light"
          }
        }
      ]
    },
    {
      "cell_type": "code",
      "source": [],
      "metadata": {
        "id": "E1R5jnMcKl74"
      },
      "execution_count": null,
      "outputs": []
    }
  ]
}