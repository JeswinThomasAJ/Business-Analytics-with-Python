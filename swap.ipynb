{
  "nbformat": 4,
  "nbformat_minor": 0,
  "metadata": {
    "colab": {
      "provenance": []
    },
    "kernelspec": {
      "name": "python3",
      "display_name": "Python 3"
    },
    "language_info": {
      "name": "python"
    }
  },
  "cells": [
    {
      "cell_type": "code",
      "execution_count": 2,
      "metadata": {
        "id": "dRuc6e3rNUac"
      },
      "outputs": [],
      "source": [
        "def liza():\n",
        "  print(\"India is my country\")"
      ]
    },
    {
      "cell_type": "code",
      "source": [
        "liza()"
      ],
      "metadata": {
        "colab": {
          "base_uri": "https://localhost:8080/"
        },
        "id": "2zkjGRi6Oknw",
        "outputId": "5739edef-5354-4a71-c681-6e1922cff8e1"
      },
      "execution_count": 3,
      "outputs": [
        {
          "output_type": "stream",
          "name": "stdout",
          "text": [
            "India is my country\n"
          ]
        }
      ]
    },
    {
      "cell_type": "code",
      "source": [
        "def vadayar():\n",
        "  print(\"Rajagiri net is slow  as hell\")"
      ],
      "metadata": {
        "id": "ZZjEtcdHO0P_"
      },
      "execution_count": 4,
      "outputs": []
    },
    {
      "cell_type": "code",
      "source": [
        "vadayar()"
      ],
      "metadata": {
        "colab": {
          "base_uri": "https://localhost:8080/"
        },
        "id": "FkmR-7ixPJuo",
        "outputId": "058ce4ea-7bba-4c00-9766-3b7aaa07c284"
      },
      "execution_count": 5,
      "outputs": [
        {
          "output_type": "stream",
          "name": "stdout",
          "text": [
            "Rajagiri net is slow  as hell\n"
          ]
        }
      ]
    },
    {
      "cell_type": "code",
      "source": [
        "def jeswin():\n",
        "  print(\"Your roll no is\",10)"
      ],
      "metadata": {
        "id": "k7Qc8xY5PL6Y"
      },
      "execution_count": 6,
      "outputs": []
    },
    {
      "cell_type": "code",
      "source": [
        "jeswin()"
      ],
      "metadata": {
        "colab": {
          "base_uri": "https://localhost:8080/"
        },
        "id": "RpcHyiRYPyS0",
        "outputId": "784c4a1c-1cad-4da9-c7af-e8399f5eaf2e"
      },
      "execution_count": 8,
      "outputs": [
        {
          "output_type": "stream",
          "name": "stdout",
          "text": [
            "Your roll no is 10\n"
          ]
        }
      ]
    },
    {
      "cell_type": "code",
      "source": [
        "def rn(s):\n",
        "  print(\"Your Roll Nunmber Is\",s)"
      ],
      "metadata": {
        "id": "i-7tyZPUQOwe"
      },
      "execution_count": 26,
      "outputs": []
    },
    {
      "cell_type": "code",
      "source": [
        "s=int(input(\"Enter your roll no: \"))\n",
        "rn(s)"
      ],
      "metadata": {
        "colab": {
          "base_uri": "https://localhost:8080/"
        },
        "id": "2RWpEFjQP3sE",
        "outputId": "2ff14233-b297-4a71-d406-b15e8c6f64f6"
      },
      "execution_count": 27,
      "outputs": [
        {
          "output_type": "stream",
          "name": "stdout",
          "text": [
            "Enter your roll no: 8\n",
            "Your Roll Nunmber Is 8\n"
          ]
        }
      ]
    },
    {
      "cell_type": "code",
      "source": [
        "def pd(n,r,e,p):\n",
        "  print(\"Your name is \",n)\n",
        "  print(\"your roll no is\",r)\n",
        "  print(\"Your email is\",e)\n",
        "  print(\"Your placeis \",p)"
      ],
      "metadata": {
        "id": "AtKPnleaR1oe"
      },
      "execution_count": 32,
      "outputs": []
    },
    {
      "cell_type": "code",
      "source": [
        "n=input(\"Enter Your Name: \")\n",
        "r=int(input(\"Enter your roll no: \"))\n",
        "e=input(\"Enter Your Email :\")\n",
        "p=input(\"Enter place : \")\n"
      ],
      "metadata": {
        "colab": {
          "base_uri": "https://localhost:8080/"
        },
        "id": "tK4EwzuzS1xU",
        "outputId": "0ff455a1-06d3-4888-f9e8-655b45aa01c9"
      },
      "execution_count": 36,
      "outputs": [
        {
          "name": "stdout",
          "output_type": "stream",
          "text": [
            "Enter Your Name: Jeswin\n",
            "Enter your roll no: 8\n",
            "Enter Your Email :jesnit@gmail.com\n",
            "Enter place : Vaikom\n"
          ]
        }
      ]
    },
    {
      "cell_type": "code",
      "source": [
        "pd(n,r,e,p)"
      ],
      "metadata": {
        "colab": {
          "base_uri": "https://localhost:8080/"
        },
        "id": "vUFptcXETqgw",
        "outputId": "9c6db21c-b735-40dd-feae-920d09404efa"
      },
      "execution_count": 37,
      "outputs": [
        {
          "output_type": "stream",
          "name": "stdout",
          "text": [
            "Your name is  Jeswin\n",
            "your roll no is 8\n",
            "Your email is jesnit@gmail.com\n",
            "Your placeis  Vaikom\n"
          ]
        }
      ]
    },
    {
      "cell_type": "code",
      "source": [
        "\n",
        "def name(x):\n",
        "  print(\"Your first name is\",x[0])\n",
        "  "
      ],
      "metadata": {
        "id": "DMTikBEeTrz_"
      },
      "execution_count": 65,
      "outputs": []
    },
    {
      "cell_type": "code",
      "source": [
        "\n",
        "\n",
        "def name2(x):\n",
        "  print(\"Your second name is \",x[1])"
      ],
      "metadata": {
        "id": "EQ4_1vi6WKNv"
      },
      "execution_count": 66,
      "outputs": []
    },
    {
      "cell_type": "code",
      "source": [
        "s=input(\"enter your name:\")\n",
        "x=s.split(\" \")\n",
        "name(x)\n",
        "name2(x)"
      ],
      "metadata": {
        "colab": {
          "base_uri": "https://localhost:8080/"
        },
        "id": "WhgSIM_KVNqo",
        "outputId": "e659a672-2c30-410d-cdd1-c212b8815691"
      },
      "execution_count": 67,
      "outputs": [
        {
          "output_type": "stream",
          "name": "stdout",
          "text": [
            "enter your name:jeswin thomas\n",
            "Your first name is jeswin\n",
            "Your second name is  thomas\n"
          ]
        }
      ]
    },
    {
      "cell_type": "code",
      "source": [
        "def swap(n,n1):\n",
        "  temp=n\n",
        "  n=n1\n",
        "  n1=temp\n",
        "  print(\"swap number is :\",n)\n",
        "  print(\"swap number is :\",n1)"
      ],
      "metadata": {
        "id": "_YuN7BCPZ78L"
      },
      "execution_count": 74,
      "outputs": []
    },
    {
      "cell_type": "code",
      "source": [
        "n=int(input(\"enter a nuber: \"))\n",
        "n1=int(input(\"enter next number: \"))"
      ],
      "metadata": {
        "colab": {
          "base_uri": "https://localhost:8080/"
        },
        "id": "B7Y0n9Iuah1t",
        "outputId": "53cbb88a-95ad-4582-bc57-9f7d7b7710ef"
      },
      "execution_count": 73,
      "outputs": [
        {
          "name": "stdout",
          "output_type": "stream",
          "text": [
            "enter a nuber: 10\n",
            "enter next number: 50\n"
          ]
        }
      ]
    },
    {
      "cell_type": "code",
      "source": [
        "swap(n,n1)"
      ],
      "metadata": {
        "colab": {
          "base_uri": "https://localhost:8080/"
        },
        "id": "FRLX1E2Saql3",
        "outputId": "c3834b85-8e59-49ed-d4ba-c5e52a341dda"
      },
      "execution_count": 75,
      "outputs": [
        {
          "output_type": "stream",
          "name": "stdout",
          "text": [
            "swap number is : 50\n",
            "swap number is : 10\n"
          ]
        }
      ]
    }
  ]
}