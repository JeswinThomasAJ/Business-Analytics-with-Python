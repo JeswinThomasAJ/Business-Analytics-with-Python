{
  "nbformat": 4,
  "nbformat_minor": 0,
  "metadata": {
    "colab": {
      "name": "Pythontax.ipynb",
      "provenance": []
    },
    "kernelspec": {
      "name": "python3",
      "display_name": "Python 3"
    },
    "language_info": {
      "name": "python"
    }
  },
  "cells": [
    {
      "cell_type": "code",
      "execution_count": null,
      "metadata": {
        "colab": {
          "base_uri": "https://localhost:8080/"
        },
        "id": "PSDJ2Fw0NWp6",
        "outputId": "69855d57-5a42-4af9-ff22-7cf8ceb9555f"
      },
      "outputs": [
        {
          "output_type": "stream",
          "name": "stdout",
          "text": [
            "enter numbers :14\n",
            "enter number :8\n",
            "sum\n",
            "22\n",
            "\n",
            "multiplication\n",
            "112\n",
            "\n",
            "division\n",
            "1.75\n",
            "\n",
            "difference\n",
            "6\n"
          ]
        }
      ],
      "source": [
        "x=int(input(\"enter numbers :\"))\n",
        "y=int(input(\"enter number :\"))\n",
        "print(\"sum\")\n",
        "print(x+y)\n",
        "print()\n",
        "print(\"multiplication\")\n",
        "print(x*y)\n",
        "print()\n",
        "print(\"division\")\n",
        "print(x/y)\n",
        "print()\n",
        "print(\"difference\")\n",
        "print(x-y)"
      ]
    },
    {
      "cell_type": "code",
      "source": [
        "\n",
        "p=int(input(\"enter principle amount :\"))\n",
        "n=int(input(\"enter number of year:\"))\n",
        "y=100\n",
        "t=int(input(\"enter intersert rate\"))\n",
        "r=t/y\n",
        "I=p*n*r\n",
        "print(\"Principle Interest :\",I)\n"
      ],
      "metadata": {
        "colab": {
          "base_uri": "https://localhost:8080/"
        },
        "id": "ZY7HnIG7TKWC",
        "outputId": "0dd46105-cfba-4122-daf7-8e30d9596d05"
      },
      "execution_count": null,
      "outputs": [
        {
          "output_type": "stream",
          "name": "stdout",
          "text": [
            "enter principle amount :100000\n",
            "enter number of year:5\n",
            "enter intersert rate8\n",
            "Principle Interest : 40000.0\n"
          ]
        }
      ]
    },
    {
      "cell_type": "code",
      "source": [
        "B=int(input(\" Enter banking marks :\"))\n",
        "if B>50:\n",
        "  print(\"you are\",\"PASSED\")\n",
        "else:\n",
        "  print(\"you are\",\"FAIL\")"
      ],
      "metadata": {
        "colab": {
          "base_uri": "https://localhost:8080/"
        },
        "id": "HO5jgcgiXmXv",
        "outputId": "b5649db9-770e-4936-a756-62bb079de0fb"
      },
      "execution_count": null,
      "outputs": [
        {
          "output_type": "stream",
          "name": "stdout",
          "text": [
            " Enter Namejeswin\n",
            " Enter banking marks :51\n",
            "you are PASSED\n"
          ]
        }
      ]
    },
    {
      "cell_type": "code",
      "source": [
        "sal=int(input(\" Enter salary\"))\n",
        "\n",
        "if sal>300000:\n",
        "  s=sal-250000\n",
        "  print(\" you are taxable\")\n",
        "  print(\"tax payable :\",s*10/100)\n",
        "else:\n",
        "  print(\"you are not taxable\")"
      ],
      "metadata": {
        "colab": {
          "base_uri": "https://localhost:8080/"
        },
        "id": "gTV03-CFaaJh",
        "outputId": "f2180e08-3117-4db0-eb48-47519f9f450d"
      },
      "execution_count": null,
      "outputs": [
        {
          "output_type": "stream",
          "name": "stdout",
          "text": [
            " Enter salary310000\n",
            " you are taxable\n",
            "tax payable : 6000.0\n"
          ]
        }
      ]
    },
    {
      "cell_type": "code",
      "source": [
        "sal=int(input(\" Enter salary\"))\n",
        "s=sal-250000\n",
        "if sal>300000 and sal<500000:\n",
        "  print(\" you are taxable\")\n",
        "  print(\"tax payable :\",s*10/100)\n",
        "elif sal>500000:\n",
        "  print(\"tax payable :\",s*20/100)\n",
        "else:\n",
        "  print(\"you are not taxable\")"
      ],
      "metadata": {
        "colab": {
          "base_uri": "https://localhost:8080/"
        },
        "id": "scrAr_Mfhcuf",
        "outputId": "ceb9749b-6609-4772-da0e-f308267fb50a"
      },
      "execution_count": 32,
      "outputs": [
        {
          "output_type": "stream",
          "name": "stdout",
          "text": [
            " Enter salary520000\n",
            "tax payable : 54000.0\n"
          ]
        }
      ]
    }
  ]
}