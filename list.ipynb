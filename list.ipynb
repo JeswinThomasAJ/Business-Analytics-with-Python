{
  "nbformat": 4,
  "nbformat_minor": 0,
  "metadata": {
    "colab": {
      "name": "list.ipynb",
      "provenance": []
    },
    "kernelspec": {
      "name": "python3",
      "display_name": "Python 3"
    },
    "language_info": {
      "name": "python"
    }
  },
  "cells": [
    {
      "cell_type": "code",
      "execution_count": 1,
      "metadata": {
        "id": "G4LKgiW1C6el"
      },
      "outputs": [],
      "source": [
        "x=10"
      ]
    },
    {
      "cell_type": "code",
      "source": [
        "print(x)"
      ],
      "metadata": {
        "colab": {
          "base_uri": "https://localhost:8080/"
        },
        "id": "9BatDJCHE8hI",
        "outputId": "9ace4d50-13d9-4c01-dad4-c69290eb9e64"
      },
      "execution_count": 3,
      "outputs": [
        {
          "output_type": "stream",
          "name": "stdout",
          "text": [
            "10\n"
          ]
        }
      ]
    },
    {
      "cell_type": "code",
      "source": [
        "x=[10,20,30]\n",
        "print(x)"
      ],
      "metadata": {
        "colab": {
          "base_uri": "https://localhost:8080/"
        },
        "id": "eMbGPXUMFDRp",
        "outputId": "d08f35c9-7654-47e6-d687-05cbb074c074"
      },
      "execution_count": 5,
      "outputs": [
        {
          "output_type": "stream",
          "name": "stdout",
          "text": [
            "[10, 20, 30]\n"
          ]
        }
      ]
    },
    {
      "cell_type": "code",
      "source": [
        "x=[10,20,\"india\", 40]\n",
        "print(x)"
      ],
      "metadata": {
        "colab": {
          "base_uri": "https://localhost:8080/"
        },
        "id": "bZHoknFaFMJ-",
        "outputId": "13611651-46b4-46ef-ca54-d9f4f8112154"
      },
      "execution_count": 19,
      "outputs": [
        {
          "output_type": "stream",
          "name": "stdout",
          "text": [
            "[10, 20, 'india', 40]\n"
          ]
        }
      ]
    },
    {
      "cell_type": "code",
      "source": [
        "x=[10,20,\"india\", 40]\n",
        "print(x)\n",
        "print(x[0])\n",
        "print(x[3])\n",
        "type(x[2])"
      ],
      "metadata": {
        "colab": {
          "base_uri": "https://localhost:8080/"
        },
        "id": "hzGdFd7-GoIJ",
        "outputId": "5d53ba48-eb30-4c5b-b17b-0490a08a8dc9"
      },
      "execution_count": 21,
      "outputs": [
        {
          "output_type": "stream",
          "name": "stdout",
          "text": [
            "[10, 20, 'india', 40]\n",
            "10\n",
            "40\n"
          ]
        },
        {
          "output_type": "execute_result",
          "data": {
            "text/plain": [
              "str"
            ]
          },
          "metadata": {},
          "execution_count": 21
        }
      ]
    },
    {
      "cell_type": "code",
      "source": [
        "print(x[-1])"
      ],
      "metadata": {
        "colab": {
          "base_uri": "https://localhost:8080/"
        },
        "id": "efhSLRJTG7FC",
        "outputId": "18fc58ce-3d1f-4852-d56d-8f9285f0f7ef"
      },
      "execution_count": 23,
      "outputs": [
        {
          "output_type": "stream",
          "name": "stdout",
          "text": [
            "40\n"
          ]
        }
      ]
    },
    {
      "cell_type": "code",
      "source": [
        "x=[\"apple\",\"mango\",\"coconut\"]\n",
        "x[1]"
      ],
      "metadata": {
        "colab": {
          "base_uri": "https://localhost:8080/",
          "height": 35
        },
        "id": "csPdJkfmHAdi",
        "outputId": "608b3688-1485-4e8c-9bea-84de1d30c133"
      },
      "execution_count": 25,
      "outputs": [
        {
          "output_type": "execute_result",
          "data": {
            "text/plain": [
              "'mango'"
            ],
            "application/vnd.google.colaboratory.intrinsic+json": {
              "type": "string"
            }
          },
          "metadata": {},
          "execution_count": 25
        }
      ]
    },
    {
      "cell_type": "code",
      "source": [
        "x=[\"adam\",\"jhon\",20,\"mumbai\",\"BBA\"\n",
        "]\n",
        "print(x[0]+' '+x[1])"
      ],
      "metadata": {
        "colab": {
          "base_uri": "https://localhost:8080/"
        },
        "id": "jiNX8sbwHNUB",
        "outputId": "fffc8d61-0d36-4116-cd7e-567c0d8998b6"
      },
      "execution_count": 27,
      "outputs": [
        {
          "output_type": "stream",
          "name": "stdout",
          "text": [
            "adam jhon\n"
          ]
        }
      ]
    },
    {
      "cell_type": "code",
      "source": [
        "x=input(\"Enter your first name\")\n",
        "y=input(\"your 2nd name\")\n",
        "z=input(\"enter your age\")\n",
        "A=[\"first\",\"second\",\"age\"]\n",
        "A[0]=x\n",
        "A[1]=y\n",
        "A[2]=z\n",
        "print(A)"
      ],
      "metadata": {
        "colab": {
          "base_uri": "https://localhost:8080/"
        },
        "id": "6TaqR-BCHmXW",
        "outputId": "95f4613e-afbf-4eb6-f8fe-6848801b9f54"
      },
      "execution_count": 30,
      "outputs": [
        {
          "output_type": "stream",
          "name": "stdout",
          "text": [
            "Enter your first nameadam\n",
            "your 2nd namejohn\n",
            "enter your age20\n",
            "['adam', 'john', '20']\n"
          ]
        }
      ]
    },
    {
      "cell_type": "code",
      "source": [
        "x=[1,23,45,65,56]\n",
        "print(x[1:4])"
      ],
      "metadata": {
        "colab": {
          "base_uri": "https://localhost:8080/"
        },
        "id": "B2Und622JzYO",
        "outputId": "94f03108-cb7a-4330-e22f-976876391449"
      },
      "execution_count": 33,
      "outputs": [
        {
          "output_type": "stream",
          "name": "stdout",
          "text": [
            "[23, 45, 65]\n"
          ]
        }
      ]
    },
    {
      "cell_type": "code",
      "source": [
        "x[1:3]"
      ],
      "metadata": {
        "colab": {
          "base_uri": "https://localhost:8080/"
        },
        "id": "UwXEISsqKT_k",
        "outputId": "1fda0367-0b06-4c6a-c9d7-5164a2219a85"
      },
      "execution_count": 35,
      "outputs": [
        {
          "output_type": "execute_result",
          "data": {
            "text/plain": [
              "[23, 45]"
            ]
          },
          "metadata": {},
          "execution_count": 35
        }
      ]
    },
    {
      "cell_type": "code",
      "source": [
        "x[1:2]"
      ],
      "metadata": {
        "colab": {
          "base_uri": "https://localhost:8080/"
        },
        "id": "bP1ssRvOKYEN",
        "outputId": "cd4d4758-687c-4b32-f1c2-3a9f1c2961ba"
      },
      "execution_count": 37,
      "outputs": [
        {
          "output_type": "execute_result",
          "data": {
            "text/plain": [
              "[23]"
            ]
          },
          "metadata": {},
          "execution_count": 37
        }
      ]
    },
    {
      "cell_type": "code",
      "source": [
        "x[:4]"
      ],
      "metadata": {
        "colab": {
          "base_uri": "https://localhost:8080/"
        },
        "id": "AeslQxVuK_7g",
        "outputId": "43754808-292d-450d-af93-8534743a7df6"
      },
      "execution_count": 39,
      "outputs": [
        {
          "output_type": "execute_result",
          "data": {
            "text/plain": [
              "[1, 23, 45, 65]"
            ]
          },
          "metadata": {},
          "execution_count": 39
        }
      ]
    },
    {
      "cell_type": "code",
      "source": [
        "x[2:]"
      ],
      "metadata": {
        "colab": {
          "base_uri": "https://localhost:8080/"
        },
        "id": "YdAAGUGuLFPY",
        "outputId": "be86a0bc-4c63-4cfa-b62b-9a5d31a46c97"
      },
      "execution_count": 41,
      "outputs": [
        {
          "output_type": "execute_result",
          "data": {
            "text/plain": [
              "[45, 65, 56]"
            ]
          },
          "metadata": {},
          "execution_count": 41
        }
      ]
    },
    {
      "cell_type": "code",
      "source": [
        "x=[1,23,45,65,56]\n",
        "print(x[2:len(x)])"
      ],
      "metadata": {
        "colab": {
          "base_uri": "https://localhost:8080/"
        },
        "id": "EPAWPIGdLJ7C",
        "outputId": "f8f0b12e-a808-4ef7-cf66-5671e1ba918e"
      },
      "execution_count": 43,
      "outputs": [
        {
          "output_type": "stream",
          "name": "stdout",
          "text": [
            "[45, 65, 56]\n"
          ]
        }
      ]
    },
    {
      "cell_type": "code",
      "source": [
        "x=[1,43,56,54,85,31]\n",
        "len(x)"
      ],
      "metadata": {
        "colab": {
          "base_uri": "https://localhost:8080/"
        },
        "id": "M8Kt-oXnLlZ2",
        "outputId": "b4f7793c-f4dd-49a3-daf9-f6aef067ccb2"
      },
      "execution_count": 45,
      "outputs": [
        {
          "output_type": "execute_result",
          "data": {
            "text/plain": [
              "6"
            ]
          },
          "metadata": {},
          "execution_count": 45
        }
      ]
    },
    {
      "cell_type": "code",
      "source": [
        "x[1]=[20]"
      ],
      "metadata": {
        "id": "S8kdOrvELtg2"
      },
      "execution_count": 48,
      "outputs": []
    },
    {
      "cell_type": "code",
      "source": [
        "print(x[1])"
      ],
      "metadata": {
        "colab": {
          "base_uri": "https://localhost:8080/"
        },
        "id": "utzAnO1-L291",
        "outputId": "63f5f8c2-efe4-4809-85cc-8d73a6a97d0a"
      },
      "execution_count": 50,
      "outputs": [
        {
          "output_type": "stream",
          "name": "stdout",
          "text": [
            "[20]\n"
          ]
        }
      ]
    },
    {
      "cell_type": "code",
      "source": [
        "x[1:3]=[3,45,5]"
      ],
      "metadata": {
        "id": "Nc1FnmOML7Cx"
      },
      "execution_count": 52,
      "outputs": []
    },
    {
      "cell_type": "code",
      "source": [
        "print(x[1:3])"
      ],
      "metadata": {
        "colab": {
          "base_uri": "https://localhost:8080/"
        },
        "id": "F0_B3p6aMBDC",
        "outputId": "6a5055f2-8878-4c64-b41b-9df40c10cfa2"
      },
      "execution_count": 55,
      "outputs": [
        {
          "output_type": "stream",
          "name": "stdout",
          "text": [
            "[3, 45]\n"
          ]
        }
      ]
    },
    {
      "cell_type": "code",
      "source": [
        "print(x)"
      ],
      "metadata": {
        "colab": {
          "base_uri": "https://localhost:8080/"
        },
        "id": "5m1pguJ3MI46",
        "outputId": "d6a0e8dd-e4f0-41f6-b6a6-90104ef48c15"
      },
      "execution_count": 57,
      "outputs": [
        {
          "output_type": "stream",
          "name": "stdout",
          "text": [
            "[1, 3, 45, 5, 5, 54, 85, 31]\n"
          ]
        }
      ]
    },
    {
      "cell_type": "code",
      "source": [
        "x=[\"adam\",\"john\",\"albert\"]\n"
      ],
      "metadata": {
        "id": "KgSDrS-aMh4N"
      },
      "execution_count": 92,
      "outputs": []
    },
    {
      "cell_type": "code",
      "source": [
        "x.append(\"mary\")"
      ],
      "metadata": {
        "id": "451fBq_CMo7L"
      },
      "execution_count": 95,
      "outputs": []
    },
    {
      "cell_type": "code",
      "source": [
        "x"
      ],
      "metadata": {
        "colab": {
          "base_uri": "https://localhost:8080/"
        },
        "id": "t4cEnuMYMtHh",
        "outputId": "293706dc-33f8-45de-d1dd-6cc2b3190829"
      },
      "execution_count": 94,
      "outputs": [
        {
          "output_type": "execute_result",
          "data": {
            "text/plain": [
              "['adam', 'john', 'albert']"
            ]
          },
          "metadata": {},
          "execution_count": 94
        }
      ]
    },
    {
      "cell_type": "code",
      "source": [
        "x.append(\"abraham\")#TO add at the end of list"
      ],
      "metadata": {
        "id": "A_5EaujSNojE"
      },
      "execution_count": 96,
      "outputs": []
    },
    {
      "cell_type": "code",
      "source": [
        "x"
      ],
      "metadata": {
        "colab": {
          "base_uri": "https://localhost:8080/"
        },
        "id": "eR2-NFihNvGo",
        "outputId": "95e285b5-edae-4a04-9c72-e5ac06c1d46a"
      },
      "execution_count": 86,
      "outputs": [
        {
          "output_type": "execute_result",
          "data": {
            "text/plain": [
              "['adam', 'john', 'albert', 'mary', 'abraham']"
            ]
          },
          "metadata": {},
          "execution_count": 86
        }
      ]
    },
    {
      "cell_type": "code",
      "source": [
        "x.insert(1,\"george\")#to insert in particular area"
      ],
      "metadata": {
        "id": "cTsFhaETN7vt"
      },
      "execution_count": 109,
      "outputs": []
    },
    {
      "cell_type": "code",
      "source": [
        "x"
      ],
      "metadata": {
        "colab": {
          "base_uri": "https://localhost:8080/"
        },
        "id": "_q1yeJDkOBCc",
        "outputId": "2fb5b8ed-d6b5-486c-8fa2-e62a4bd58bfa"
      },
      "execution_count": 99,
      "outputs": [
        {
          "output_type": "execute_result",
          "data": {
            "text/plain": [
              "['adam', 'george', 'john', 'albert', 'mary', 'abraham']"
            ]
          },
          "metadata": {},
          "execution_count": 99
        }
      ]
    },
    {
      "cell_type": "code",
      "source": [
        "x=[\"adam\",\"george\"]\n",
        "y=[\"john\",\"mary\"]\n",
        "x.extend(y)#to join 2 list"
      ],
      "metadata": {
        "id": "V3taAKN6Obhk"
      },
      "execution_count": 101,
      "outputs": []
    },
    {
      "cell_type": "code",
      "source": [
        "x"
      ],
      "metadata": {
        "colab": {
          "base_uri": "https://localhost:8080/"
        },
        "id": "xLDhcR6ZOsqE",
        "outputId": "3200c903-974e-4e73-a17f-eccc948fff9d"
      },
      "execution_count": 103,
      "outputs": [
        {
          "output_type": "execute_result",
          "data": {
            "text/plain": [
              "['adam', 'george', 'john', 'mary']"
            ]
          },
          "metadata": {},
          "execution_count": 103
        }
      ]
    },
    {
      "cell_type": "code",
      "source": [
        "x=['adam', 'george', 'john', 'albert', 'mary', 'abraham']\n",
        "x.remove(\"george\")#to remove using name\n",
        "print(x)"
      ],
      "metadata": {
        "colab": {
          "base_uri": "https://localhost:8080/"
        },
        "id": "I-Su0CJ6PPlS",
        "outputId": "a44b870f-d459-43cf-9ffd-14929cdd57c1"
      },
      "execution_count": 107,
      "outputs": [
        {
          "output_type": "stream",
          "name": "stdout",
          "text": [
            "['adam', 'john', 'albert', 'mary', 'abraham']\n"
          ]
        }
      ]
    },
    {
      "cell_type": "code",
      "source": [
        "x=['adam', 'george', 'john', 'albert', 'mary', 'abraham']\n",
        "x.pop(3)#to remove using index value\n",
        "print(x)"
      ],
      "metadata": {
        "colab": {
          "base_uri": "https://localhost:8080/"
        },
        "id": "U9q4XUthP0wl",
        "outputId": "827eea02-6930-4226-ebe1-dba9858c690f"
      },
      "execution_count": 110,
      "outputs": [
        {
          "output_type": "stream",
          "name": "stdout",
          "text": [
            "['adam', 'george', 'john', 'mary', 'abraham']\n"
          ]
        }
      ]
    },
    {
      "cell_type": "code",
      "source": [
        "x=['adam', 'george', 'john', 'albert', 'mary', 'abraham']\n",
        "del(x[0])#to delete using index value\n",
        "print(x)"
      ],
      "metadata": {
        "colab": {
          "base_uri": "https://localhost:8080/"
        },
        "id": "Oi4WNsDdQOpg",
        "outputId": "7110a44b-f913-4cbd-f4c8-fe3cfe1b119c"
      },
      "execution_count": 112,
      "outputs": [
        {
          "output_type": "stream",
          "name": "stdout",
          "text": [
            "['george', 'john', 'albert', 'mary', 'abraham']\n"
          ]
        }
      ]
    },
    {
      "cell_type": "code",
      "source": [
        "x=['adam', 'george', 'john', 'albert', 'mary', 'abraham']\n",
        "x.sort()#to make it in order\n",
        "print(x)"
      ],
      "metadata": {
        "colab": {
          "base_uri": "https://localhost:8080/"
        },
        "id": "sDISW_bwQqmd",
        "outputId": "c4e11bd2-d74e-4faa-b7c5-299bacc1e2f4"
      },
      "execution_count": 115,
      "outputs": [
        {
          "output_type": "stream",
          "name": "stdout",
          "text": [
            "['abraham', 'adam', 'albert', 'george', 'john', 'mary']\n"
          ]
        }
      ]
    },
    {
      "cell_type": "code",
      "source": [
        "x=['adam', 'george', 'john', 'albert', 'mary', 'abraham']\n",
        "x.sort(reverse=True)\n",
        "print(x)"
      ],
      "metadata": {
        "colab": {
          "base_uri": "https://localhost:8080/"
        },
        "id": "qYOp4cXYRFTn",
        "outputId": "2aea6c42-35f3-4fac-ac96-3536e5aabc60"
      },
      "execution_count": 118,
      "outputs": [
        {
          "output_type": "stream",
          "name": "stdout",
          "text": [
            "['mary', 'john', 'george', 'albert', 'adam', 'abraham']\n"
          ]
        }
      ]
    },
    {
      "cell_type": "code",
      "source": [
        "y=x.copy()#to make a copy of existing data\n",
        "print(y)"
      ],
      "metadata": {
        "colab": {
          "base_uri": "https://localhost:8080/"
        },
        "id": "kJJGbexiRwEA",
        "outputId": "c173052c-bdf3-44b4-cd34-f53d76fc68c7"
      },
      "execution_count": 121,
      "outputs": [
        {
          "output_type": "stream",
          "name": "stdout",
          "text": [
            "['mary', 'john', 'george', 'albert', 'adam', 'abraham']\n"
          ]
        }
      ]
    },
    {
      "cell_type": "code",
      "source": [
        "x=[4,5,2,7,2,7,3,7]\n",
        "x.count(7)#to find repetation of same value \n"
      ],
      "metadata": {
        "colab": {
          "base_uri": "https://localhost:8080/"
        },
        "id": "7pS2DkwpSH5i",
        "outputId": "ff7ea1eb-9b57-45e0-845e-8431073efeb9"
      },
      "execution_count": 125,
      "outputs": [
        {
          "output_type": "execute_result",
          "data": {
            "text/plain": [
              "3"
            ]
          },
          "metadata": {},
          "execution_count": 125
        }
      ]
    },
    {
      "cell_type": "code",
      "source": [
        "x=[4,7,9,2]\n",
        "x[1]=8\n",
        "print(x)"
      ],
      "metadata": {
        "colab": {
          "base_uri": "https://localhost:8080/"
        },
        "id": "XtiVdUhfSomK",
        "outputId": "e3ef0abe-d090-4569-b198-986f8cb1b536"
      },
      "execution_count": 128,
      "outputs": [
        {
          "output_type": "stream",
          "name": "stdout",
          "text": [
            "[4, 8, 9, 2]\n"
          ]
        }
      ]
    },
    {
      "cell_type": "code",
      "source": [
        "x={4,5,2,7,2,7,3,7}\n",
        "x#curly barce will avoide dupli and sort automatically"
      ],
      "metadata": {
        "colab": {
          "base_uri": "https://localhost:8080/"
        },
        "id": "QD2HetiCTPfi",
        "outputId": "fc442813-151c-4186-9553-d5e2947ad7d3"
      },
      "execution_count": 130,
      "outputs": [
        {
          "output_type": "execute_result",
          "data": {
            "text/plain": [
              "{2, 3, 4, 5, 7}"
            ]
          },
          "metadata": {},
          "execution_count": 130
        }
      ]
    },
    {
      "cell_type": "code",
      "source": [
        "x=0\n",
        "while x<10:\n",
        "  print(x)\n",
        "  x=x+1"
      ],
      "metadata": {
        "colab": {
          "base_uri": "https://localhost:8080/"
        },
        "id": "krZt4kDeT2WC",
        "outputId": "1706fbde-c8dc-4a2d-909c-4c221b578eeb"
      },
      "execution_count": 132,
      "outputs": [
        {
          "output_type": "stream",
          "name": "stdout",
          "text": [
            "0\n",
            "1\n",
            "2\n",
            "3\n",
            "4\n",
            "5\n",
            "6\n",
            "7\n",
            "8\n",
            "9\n"
          ]
        }
      ]
    },
    {
      "cell_type": "code",
      "source": [
        "x=0\n",
        "total_sum=0\n",
        "while x <100:\n",
        "  total_sum = total_sum +x\n",
        "  x=x+1\n",
        "  print(total_sum)\n",
        "\n"
      ],
      "metadata": {
        "colab": {
          "base_uri": "https://localhost:8080/"
        },
        "id": "7kwWKXf0VXyi",
        "outputId": "ec3dc9e8-39e2-4679-d8b1-f3995a16df60"
      },
      "execution_count": 136,
      "outputs": [
        {
          "output_type": "stream",
          "name": "stdout",
          "text": [
            "0\n",
            "1\n",
            "3\n",
            "6\n",
            "10\n",
            "15\n",
            "21\n",
            "28\n",
            "36\n",
            "45\n",
            "55\n",
            "66\n",
            "78\n",
            "91\n",
            "105\n",
            "120\n",
            "136\n",
            "153\n",
            "171\n",
            "190\n",
            "210\n",
            "231\n",
            "253\n",
            "276\n",
            "300\n",
            "325\n",
            "351\n",
            "378\n",
            "406\n",
            "435\n",
            "465\n",
            "496\n",
            "528\n",
            "561\n",
            "595\n",
            "630\n",
            "666\n",
            "703\n",
            "741\n",
            "780\n",
            "820\n",
            "861\n",
            "903\n",
            "946\n",
            "990\n",
            "1035\n",
            "1081\n",
            "1128\n",
            "1176\n",
            "1225\n",
            "1275\n",
            "1326\n",
            "1378\n",
            "1431\n",
            "1485\n",
            "1540\n",
            "1596\n",
            "1653\n",
            "1711\n",
            "1770\n",
            "1830\n",
            "1891\n",
            "1953\n",
            "2016\n",
            "2080\n",
            "2145\n",
            "2211\n",
            "2278\n",
            "2346\n",
            "2415\n",
            "2485\n",
            "2556\n",
            "2628\n",
            "2701\n",
            "2775\n",
            "2850\n",
            "2926\n",
            "3003\n",
            "3081\n",
            "3160\n",
            "3240\n",
            "3321\n",
            "3403\n",
            "3486\n",
            "3570\n",
            "3655\n",
            "3741\n",
            "3828\n",
            "3916\n",
            "4005\n",
            "4095\n",
            "4186\n",
            "4278\n",
            "4371\n",
            "4465\n",
            "4560\n",
            "4656\n",
            "4753\n",
            "4851\n",
            "4950\n"
          ]
        }
      ]
    },
    {
      "cell_type": "code",
      "source": [
        "x=['john','adam','mary','george']\n",
        "i=0\n",
        "while i < len (x) :\n",
        "  print(x[i])\n",
        "  i=i+1\n",
        "  \n"
      ],
      "metadata": {
        "colab": {
          "base_uri": "https://localhost:8080/"
        },
        "id": "ynA7SWs2YMf2",
        "outputId": "2e313c2a-210e-4f47-a5c8-7505040e8756"
      },
      "execution_count": 141,
      "outputs": [
        {
          "output_type": "stream",
          "name": "stdout",
          "text": [
            "john\n",
            "adam\n",
            "mary\n",
            "george\n"
          ]
        }
      ]
    },
    {
      "cell_type": "code",
      "source": [
        "x=['john','adam',29,340000]\n",
        "i=0\n",
        "while i < len(x):\n",
        "  print(x[i])\n",
        "  i=i+1"
      ],
      "metadata": {
        "colab": {
          "base_uri": "https://localhost:8080/"
        },
        "id": "_64cT2bHZvBJ",
        "outputId": "7071eb2d-0069-4655-f99e-7cada67d6799"
      },
      "execution_count": 142,
      "outputs": [
        {
          "output_type": "stream",
          "name": "stdout",
          "text": [
            "john\n",
            "adam\n",
            "29\n",
            "340000\n"
          ]
        }
      ]
    }
  ]
}