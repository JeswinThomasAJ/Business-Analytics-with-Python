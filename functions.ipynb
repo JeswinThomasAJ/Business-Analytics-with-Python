{
  "nbformat": 4,
  "nbformat_minor": 0,
  "metadata": {
    "colab": {
      "provenance": []
    },
    "kernelspec": {
      "name": "python3",
      "display_name": "Python 3"
    },
    "language_info": {
      "name": "python"
    }
  },
  "cells": [
    {
      "cell_type": "code",
      "execution_count": 58,
      "metadata": {
        "id": "RH_XVG4hYcV1"
      },
      "outputs": [],
      "source": [
        "s=[1,5,6,6,4,3,7,3,56,4,56]"
      ]
    },
    {
      "cell_type": "code",
      "source": [
        "def add(s):\n",
        "  print(\"The sum of the elements is : \",sum(s))"
      ],
      "metadata": {
        "id": "AQpS3hkOZCP8"
      },
      "execution_count": 59,
      "outputs": []
    },
    {
      "cell_type": "code",
      "source": [
        "add(s)"
      ],
      "metadata": {
        "colab": {
          "base_uri": "https://localhost:8080/"
        },
        "id": "6qNrhLqcZJZ0",
        "outputId": "0291168d-4eed-4bb5-a3f2-0d749f72821c"
      },
      "execution_count": 60,
      "outputs": [
        {
          "output_type": "stream",
          "name": "stdout",
          "text": [
            "The sum of the elements is :  151\n"
          ]
        }
      ]
    },
    {
      "cell_type": "code",
      "source": [
        "def even(s):\n",
        "  for i in s:\n",
        "    if (i%2==0):\n",
        "      print(i)"
      ],
      "metadata": {
        "id": "OtcAowQKZLAz"
      },
      "execution_count": 61,
      "outputs": []
    },
    {
      "cell_type": "code",
      "source": [
        "even(s)"
      ],
      "metadata": {
        "colab": {
          "base_uri": "https://localhost:8080/"
        },
        "id": "67v2OcOPaNka",
        "outputId": "c9db2518-462d-46e3-c946-68ca3984a1b0"
      },
      "execution_count": 62,
      "outputs": [
        {
          "output_type": "stream",
          "name": "stdout",
          "text": [
            "6\n",
            "6\n",
            "4\n",
            "56\n",
            "4\n",
            "56\n"
          ]
        }
      ]
    },
    {
      "cell_type": "code",
      "source": [
        "def odd(s):\n",
        "  for i in s:\n",
        "    if not(i%2==0):\n",
        "      print(i)"
      ],
      "metadata": {
        "id": "6Cu14bVwa1KS"
      },
      "execution_count": 63,
      "outputs": []
    },
    {
      "cell_type": "code",
      "source": [
        "odd(s)"
      ],
      "metadata": {
        "colab": {
          "base_uri": "https://localhost:8080/"
        },
        "id": "jp7w-Owyb3aO",
        "outputId": "b4fdd1e6-dcb3-4064-aac2-96dae072d389"
      },
      "execution_count": 64,
      "outputs": [
        {
          "output_type": "stream",
          "name": "stdout",
          "text": [
            "1\n",
            "5\n",
            "3\n",
            "7\n",
            "3\n"
          ]
        }
      ]
    },
    {
      "cell_type": "code",
      "source": [
        "def oddr(s):\n",
        "  for i in s:\n",
        "    if i%2==1:\n",
        "      s.remove(i)\n",
        "      print(s)"
      ],
      "metadata": {
        "id": "-B8RZ0cLfWTe"
      },
      "execution_count": 73,
      "outputs": []
    },
    {
      "cell_type": "code",
      "source": [
        "oddr(s)"
      ],
      "metadata": {
        "id": "ygyk6o7tfnmG"
      },
      "execution_count": 74,
      "outputs": []
    },
    {
      "cell_type": "code",
      "source": [
        "s"
      ],
      "metadata": {
        "colab": {
          "base_uri": "https://localhost:8080/"
        },
        "id": "PdQWEBE_ftHn",
        "outputId": "5e189925-bf78-4e9d-bc49-fe1fba8e3c0d"
      },
      "execution_count": 75,
      "outputs": [
        {
          "output_type": "execute_result",
          "data": {
            "text/plain": [
              "[6, 6, 4, 56, 4, 56]"
            ]
          },
          "metadata": {},
          "execution_count": 75
        }
      ]
    },
    {
      "cell_type": "code",
      "source": [
        "d=input(\"enter a text : \")\n",
        "\n",
        "print(d)\n"
      ],
      "metadata": {
        "colab": {
          "base_uri": "https://localhost:8080/"
        },
        "id": "fOIB3s1Cf8Lz",
        "outputId": "9fb39da0-750a-4481-98b3-7aa04dbd082b"
      },
      "execution_count": 107,
      "outputs": [
        {
          "output_type": "stream",
          "name": "stdout",
          "text": [
            "enter a text : Python is an interpreted, object-oriented, high-level programming language with dynamic semantics\n",
            "Python is an interpreted, object-oriented, high-level programming language with dynamic semantics\n"
          ]
        }
      ]
    },
    {
      "cell_type": "code",
      "source": [
        "def vowel(d):\n",
        "  a=d.replace(\"a\",\"-\")\n",
        "  b=a.replace(\"e\",\"-\")\n",
        "  c=b.replace(\"i\",\" \")\n",
        "  d=c.replace(\"o\",\"-\")\n",
        "  e=d.replace(\"u\",\"-\")\n",
        "\n",
        "  print(e)"
      ],
      "metadata": {
        "id": "JaoOSDHRgmiN"
      },
      "execution_count": 149,
      "outputs": []
    },
    {
      "cell_type": "code",
      "source": [
        "vowel(d)"
      ],
      "metadata": {
        "colab": {
          "base_uri": "https://localhost:8080/"
        },
        "id": "DDmexBwDg2Q8",
        "outputId": "e17d091e-e1d1-42dd-9f95-70d359eea195"
      },
      "execution_count": 150,
      "outputs": [
        {
          "output_type": "stream",
          "name": "stdout",
          "text": [
            "Pyth-n  s -n  nt-rpr-t-d, -bj-ct--r -nt-d, h gh-l-v-l pr-gr-mm ng l-ng--g- w th dyn-m c s-m-nt cs\n"
          ]
        }
      ]
    },
    {
      "cell_type": "code",
      "source": [
        "v=[\"a\",\"e\",\"i\",\"o\",\"u\"]\n",
        "def vowel2(a):\n",
        "  for i in a:\n",
        "    if i in v:\n",
        "      a=a.replace(i,\"-\")\n",
        "  print(a)"
      ],
      "metadata": {
        "id": "FpoUV8_yg39s"
      },
      "execution_count": 147,
      "outputs": []
    },
    {
      "cell_type": "code",
      "source": [
        "vowel2(d)"
      ],
      "metadata": {
        "colab": {
          "base_uri": "https://localhost:8080/"
        },
        "id": "FmS1_bnYmaSs",
        "outputId": "32da40c5-f4da-4236-dd2a-c4b2c68e8b10"
      },
      "execution_count": 148,
      "outputs": [
        {
          "output_type": "stream",
          "name": "stdout",
          "text": [
            "Pyth-n -s -n -nt-rpr-t-d, -bj-ct--r--nt-d, h-gh-l-v-l pr-gr-mm-ng l-ng--g- w-th dyn-m-c s-m-nt-cs\n"
          ]
        }
      ]
    },
    {
      "cell_type": "code",
      "source": [],
      "metadata": {
        "id": "KTXZ2JQGmdKz"
      },
      "execution_count": null,
      "outputs": []
    }
  ]
}