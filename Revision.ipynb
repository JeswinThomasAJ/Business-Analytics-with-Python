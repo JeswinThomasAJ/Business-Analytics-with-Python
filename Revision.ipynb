{
  "nbformat": 4,
  "nbformat_minor": 0,
  "metadata": {
    "colab": {
      "provenance": []
    },
    "kernelspec": {
      "name": "python3",
      "display_name": "Python 3"
    },
    "language_info": {
      "name": "python"
    }
  },
  "cells": [
    {
      "cell_type": "code",
      "execution_count": 1,
      "metadata": {
        "colab": {
          "base_uri": "https://localhost:8080/"
        },
        "id": "236XARaJsyd5",
        "outputId": "53e081ad-470d-4983-d4e3-74244a7aba02"
      },
      "outputs": [
        {
          "output_type": "stream",
          "name": "stdout",
          "text": [
            "13\n"
          ]
        }
      ],
      "source": [
        "x=\"Jeswin Thomas\"\n",
        "print(len(x))"
      ]
    },
    {
      "cell_type": "code",
      "source": [
        "x=[\"john\",'Mary',\"david\",\"Adam\"]\n",
        "print(x)\n",
        "print(type(x))"
      ],
      "metadata": {
        "colab": {
          "base_uri": "https://localhost:8080/"
        },
        "id": "o6mwKUr0ut4Z",
        "outputId": "b53a927b-b2b2-4139-f72a-cdf79e92041e"
      },
      "execution_count": 3,
      "outputs": [
        {
          "output_type": "stream",
          "name": "stdout",
          "text": [
            "['john', 'Mary', 'david', 'Adam']\n",
            "<class 'list'>\n"
          ]
        }
      ]
    },
    {
      "cell_type": "code",
      "source": [
        "x=[9062,\"Jeswin Thomas\",20,\"14/12/2002\",\"Thammanam\"]\n",
        "print(x)\n",
        "print(type(x))"
      ],
      "metadata": {
        "colab": {
          "base_uri": "https://localhost:8080/"
        },
        "id": "vOeTUX0RvWSJ",
        "outputId": "c3149bf2-d707-4545-ef97-514172e26936"
      },
      "execution_count": 6,
      "outputs": [
        {
          "output_type": "stream",
          "name": "stdout",
          "text": [
            "[9062, 'Jeswin Thomas', 20, '14/12/2002', 'Thammanam']\n",
            "<class 'list'>\n"
          ]
        }
      ]
    },
    {
      "cell_type": "code",
      "source": [
        "x[0]"
      ],
      "metadata": {
        "colab": {
          "base_uri": "https://localhost:8080/"
        },
        "id": "9XEff7pjwQbO",
        "outputId": "83230d4c-ba1d-4757-9c30-9ba42089c5b5"
      },
      "execution_count": 7,
      "outputs": [
        {
          "output_type": "execute_result",
          "data": {
            "text/plain": [
              "9062"
            ]
          },
          "metadata": {},
          "execution_count": 7
        }
      ]
    },
    {
      "cell_type": "code",
      "source": [
        "print(x)"
      ],
      "metadata": {
        "colab": {
          "base_uri": "https://localhost:8080/"
        },
        "id": "dtR-N3ODw0K6",
        "outputId": "9aab747a-e7f8-460f-9e26-9c2cbe397ff4"
      },
      "execution_count": 8,
      "outputs": [
        {
          "output_type": "stream",
          "name": "stdout",
          "text": [
            "[9062, 'Jeswin Thomas', 20, '14/12/2002', 'Thammanam']\n"
          ]
        }
      ]
    },
    {
      "cell_type": "code",
      "source": [
        "print(x[0])"
      ],
      "metadata": {
        "colab": {
          "base_uri": "https://localhost:8080/"
        },
        "id": "EQIQEPiUw2nj",
        "outputId": "5a8a8cf9-06f0-464f-d800-5f9556fbffcf"
      },
      "execution_count": 9,
      "outputs": [
        {
          "output_type": "stream",
          "name": "stdout",
          "text": [
            "9062\n"
          ]
        }
      ]
    },
    {
      "cell_type": "code",
      "source": [
        "print(x[-1])"
      ],
      "metadata": {
        "colab": {
          "base_uri": "https://localhost:8080/"
        },
        "id": "OPJLwaQuw41m",
        "outputId": "a720c8b5-b4f9-4d34-8b07-4675a390ea0f"
      },
      "execution_count": 10,
      "outputs": [
        {
          "output_type": "stream",
          "name": "stdout",
          "text": [
            "Thammanam\n"
          ]
        }
      ]
    },
    {
      "cell_type": "code",
      "source": [
        "b=[8,14,3,7,30,29,25,21,45,20]\n",
        "print(b)"
      ],
      "metadata": {
        "colab": {
          "base_uri": "https://localhost:8080/"
        },
        "id": "3RYNeN5oxcrG",
        "outputId": "55ca6f83-d00d-4d37-a4f3-6ad5da204002"
      },
      "execution_count": 11,
      "outputs": [
        {
          "output_type": "stream",
          "name": "stdout",
          "text": [
            "[8, 14, 3, 7, 30, 29, 25, 21, 45, 20]\n"
          ]
        }
      ]
    },
    {
      "cell_type": "code",
      "source": [
        "print(b[0:1])"
      ],
      "metadata": {
        "colab": {
          "base_uri": "https://localhost:8080/"
        },
        "id": "2ygZ_ogQxxGu",
        "outputId": "25735d5a-181f-4bab-8253-f79864ef1f15"
      },
      "execution_count": 13,
      "outputs": [
        {
          "output_type": "stream",
          "name": "stdout",
          "text": [
            "[8]\n"
          ]
        }
      ]
    },
    {
      "cell_type": "code",
      "source": [
        "print(b[0:5])"
      ],
      "metadata": {
        "colab": {
          "base_uri": "https://localhost:8080/"
        },
        "id": "Q2HXi9E3yTvV",
        "outputId": "6e494221-0e0e-4aa2-94f4-cce9ced59f3e"
      },
      "execution_count": 14,
      "outputs": [
        {
          "output_type": "stream",
          "name": "stdout",
          "text": [
            "[8, 14, 3, 7, 30]\n"
          ]
        }
      ]
    },
    {
      "cell_type": "code",
      "source": [
        "print(b[-3:])"
      ],
      "metadata": {
        "colab": {
          "base_uri": "https://localhost:8080/"
        },
        "id": "oyONwqP2yfmF",
        "outputId": "bffebf84-24de-47d0-ad27-edd10762fee3"
      },
      "execution_count": 19,
      "outputs": [
        {
          "output_type": "stream",
          "name": "stdout",
          "text": [
            "[21, 45, 20]\n"
          ]
        }
      ]
    },
    {
      "cell_type": "code",
      "source": [
        "print(b[7:])"
      ],
      "metadata": {
        "colab": {
          "base_uri": "https://localhost:8080/"
        },
        "id": "tlX3wnqdysCN",
        "outputId": "f4006f61-676d-4048-8e2e-879ca89fe32c"
      },
      "execution_count": 20,
      "outputs": [
        {
          "output_type": "stream",
          "name": "stdout",
          "text": [
            "[21, 45, 20]\n"
          ]
        }
      ]
    },
    {
      "cell_type": "code",
      "source": [
        "s=[8,14,3,7,30,29,25,21,45,20]\n",
        "s[0]=4\n",
        "print(s)"
      ],
      "metadata": {
        "colab": {
          "base_uri": "https://localhost:8080/"
        },
        "id": "2RijsGy60NIq",
        "outputId": "b5c65397-6446-448d-bbb4-6b1c2c8619b6"
      },
      "execution_count": 23,
      "outputs": [
        {
          "output_type": "stream",
          "name": "stdout",
          "text": [
            "[4, 14, 3, 7, 30, 29, 25, 21, 45, 20]\n"
          ]
        }
      ]
    },
    {
      "cell_type": "code",
      "source": [
        "z=[9062,\"Jeswin Thomas\",20,\"14/12/2002\",\"Thammanam\"]\n",
        "z[4]=\"Rajagiri\"\n",
        "print(z)"
      ],
      "metadata": {
        "colab": {
          "base_uri": "https://localhost:8080/"
        },
        "id": "EQczANV10oWR",
        "outputId": "27dc8953-ecdf-45a9-f93f-a67a0463eee2"
      },
      "execution_count": 24,
      "outputs": [
        {
          "output_type": "stream",
          "name": "stdout",
          "text": [
            "[9062, 'Jeswin Thomas', 20, '14/12/2002', 'Rajagiri']\n"
          ]
        }
      ]
    },
    {
      "cell_type": "code",
      "source": [
        "s.append(96)\n",
        "print(s)"
      ],
      "metadata": {
        "colab": {
          "base_uri": "https://localhost:8080/"
        },
        "id": "XNFOMa8e1chd",
        "outputId": "8a1d816a-28fd-4a6b-9a38-9e6c23f217fd"
      },
      "execution_count": 25,
      "outputs": [
        {
          "output_type": "stream",
          "name": "stdout",
          "text": [
            "[4, 14, 3, 7, 30, 29, 25, 21, 45, 20, 96]\n"
          ]
        }
      ]
    },
    {
      "cell_type": "code",
      "source": [
        "\n",
        "for n in range(4):\n",
        "  n=input(\"Enter a name : \")\n",
        "  s.append(n)\n",
        "  \n",
        "  print(s)"
      ],
      "metadata": {
        "colab": {
          "base_uri": "https://localhost:8080/"
        },
        "id": "GV_TkKjA3X3s",
        "outputId": "5e5fee26-e89e-4d1f-835c-3292068eb125"
      },
      "execution_count": 35,
      "outputs": [
        {
          "output_type": "stream",
          "name": "stdout",
          "text": [
            "Enter a name : Jeswin\n",
            "['Jeswin']\n",
            "Enter a name : Thomas\n",
            "['Jeswin', 'Thomas']\n",
            "Enter a name : Angadiparambil\n",
            "['Jeswin', 'Thomas', 'Angadiparambil']\n",
            "Enter a name : Vadayar\n",
            "['Jeswin', 'Thomas', 'Angadiparambil', 'Vadayar']\n"
          ]
        }
      ]
    },
    {
      "cell_type": "code",
      "source": [
        "c=0\n",
        "s=[]\n",
        "while c<4:\n",
        "  name=input(\"Enter name:\")\n",
        "  s.append(name)\n",
        "  c=c+1\n",
        "  print(s)"
      ],
      "metadata": {
        "colab": {
          "base_uri": "https://localhost:8080/"
        },
        "id": "tUTRBIYL48ku",
        "outputId": "eb2d6d96-edd0-4ce2-e221-b7895b108d17"
      },
      "execution_count": 45,
      "outputs": [
        {
          "output_type": "stream",
          "name": "stdout",
          "text": [
            "Enter name:jeswin\n",
            "['jeswin']\n",
            "Enter name:thomas'\n",
            "['jeswin', \"thomas'\"]\n",
            "Enter name:angadiparambil\n",
            "['jeswin', \"thomas'\", 'angadiparambil']\n",
            "Enter name:vadayar\n",
            "['jeswin', \"thomas'\", 'angadiparambil', 'vadayar']\n"
          ]
        }
      ]
    },
    {
      "cell_type": "code",
      "source": [
        "x=[1,5,9,7,5,3,2,84,5,6]\n",
        "y=x.copy()\n",
        "print(y)"
      ],
      "metadata": {
        "colab": {
          "base_uri": "https://localhost:8080/"
        },
        "id": "lZXYc9tX5qvu",
        "outputId": "91715fd3-1d77-4e88-8f6d-8cfe7cb615df"
      },
      "execution_count": 46,
      "outputs": [
        {
          "output_type": "stream",
          "name": "stdout",
          "text": [
            "[1, 5, 9, 7, 5, 3, 2, 84, 5, 6]\n"
          ]
        }
      ]
    },
    {
      "cell_type": "code",
      "source": [
        "x=[1,2,5,6,4]\n",
        "y=[2,4,6,8,10,12]\n",
        "x.extend(y)\n",
        "print(x)"
      ],
      "metadata": {
        "colab": {
          "base_uri": "https://localhost:8080/"
        },
        "id": "ZTTaiUvh9PLx",
        "outputId": "5e9ffd88-08c3-49bd-ac15-4c93ae4b39d9"
      },
      "execution_count": 50,
      "outputs": [
        {
          "output_type": "stream",
          "name": "stdout",
          "text": [
            "[1, 2, 5, 6, 4, 2, 4, 6, 8, 10, 12]\n"
          ]
        }
      ]
    },
    {
      "cell_type": "code",
      "source": [
        "x=[1,2,3,4,5,6,7,8,9,11,2,5]\n",
        "c=x.count(2)\n",
        "print(c)"
      ],
      "metadata": {
        "colab": {
          "base_uri": "https://localhost:8080/"
        },
        "id": "-5Q0tKzR-XAC",
        "outputId": "eb2bb6c0-219f-4309-8cc5-835db6230e40"
      },
      "execution_count": 54,
      "outputs": [
        {
          "output_type": "stream",
          "name": "stdout",
          "text": [
            "2\n"
          ]
        }
      ]
    },
    {
      "cell_type": "code",
      "source": [
        "x=[\"john\",'Mary',\"david\",\"Adam\"]\n",
        "x[1:3]=[\"Angel\",\"Zara\"]\n",
        "print(x)"
      ],
      "metadata": {
        "colab": {
          "base_uri": "https://localhost:8080/"
        },
        "id": "QQXSZjfZ-8f6",
        "outputId": "57ba8a08-8f30-4c2d-e53f-77d122c27a52"
      },
      "execution_count": 59,
      "outputs": [
        {
          "output_type": "stream",
          "name": "stdout",
          "text": [
            "['john', 'Angel', 'Zara', 'Adam']\n"
          ]
        }
      ]
    },
    {
      "cell_type": "code",
      "source": [
        "x=[\"johna\",'Mors',\"davi\",\"Adonxz\"]\n",
        "x.insert(2,\"kottaMadhu\")\n",
        "print(x)\n"
      ],
      "metadata": {
        "colab": {
          "base_uri": "https://localhost:8080/"
        },
        "id": "9gzqE2_tACCO",
        "outputId": "50bfc91f-8605-48ad-a6a8-dcde7faf941e"
      },
      "execution_count": 61,
      "outputs": [
        {
          "output_type": "stream",
          "name": "stdout",
          "text": [
            "['johna', 'Mors', 'kottaMadhu', 'davi', 'Adonxz']\n"
          ]
        }
      ]
    },
    {
      "cell_type": "code",
      "source": [
        "x=[\"johna\",'Mors',\"davi\",\"Adonxz\"]\n",
        "x.remove(\"johna\")\n",
        "print(x)"
      ],
      "metadata": {
        "colab": {
          "base_uri": "https://localhost:8080/"
        },
        "id": "VKCiKzaQBjTT",
        "outputId": "b0a53278-2985-47e2-d2fc-c1e07660947d"
      },
      "execution_count": 65,
      "outputs": [
        {
          "output_type": "stream",
          "name": "stdout",
          "text": [
            "['Mors', 'davi', 'Adonxz']\n"
          ]
        }
      ]
    },
    {
      "cell_type": "code",
      "source": [
        "x=[\"johna\",'Mors',\"davi\",\"Adonxz\"]\n",
        "del x[0]\n",
        "print(x)"
      ],
      "metadata": {
        "colab": {
          "base_uri": "https://localhost:8080/"
        },
        "id": "1Ag8-xSTCOjj",
        "outputId": "7d63409c-1812-4153-fc0a-0da1f3da83af"
      },
      "execution_count": 69,
      "outputs": [
        {
          "output_type": "stream",
          "name": "stdout",
          "text": [
            "['Mors', 'davi', 'Adonxz']\n"
          ]
        }
      ]
    },
    {
      "cell_type": "code",
      "source": [
        "del x[-1]\n",
        "print(x)"
      ],
      "metadata": {
        "colab": {
          "base_uri": "https://localhost:8080/"
        },
        "id": "9QrWwVTsC8f4",
        "outputId": "7953da93-35be-48bb-932c-9c1b391c9860"
      },
      "execution_count": 71,
      "outputs": [
        {
          "output_type": "stream",
          "name": "stdout",
          "text": [
            "['Mors', 'davi']\n"
          ]
        }
      ]
    },
    {
      "cell_type": "code",
      "source": [
        "x=[\"johna\",'Mors',\"davi\",\"Adonxz\"]\n",
        "del x[0:2]\n",
        "print(x)"
      ],
      "metadata": {
        "colab": {
          "base_uri": "https://localhost:8080/"
        },
        "id": "Q4gA0oppDKAw",
        "outputId": "57cb769a-90b6-41a6-b6f0-33dcc424936a"
      },
      "execution_count": 72,
      "outputs": [
        {
          "output_type": "stream",
          "name": "stdout",
          "text": [
            "['davi', 'Adonxz']\n"
          ]
        }
      ]
    },
    {
      "cell_type": "code",
      "source": [],
      "metadata": {
        "id": "oddtLoK9DXDI"
      },
      "execution_count": null,
      "outputs": []
    }
  ]
}