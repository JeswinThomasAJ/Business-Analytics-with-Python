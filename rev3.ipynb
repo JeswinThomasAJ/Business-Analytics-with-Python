{
  "nbformat": 4,
  "nbformat_minor": 0,
  "metadata": {
    "colab": {
      "provenance": []
    },
    "kernelspec": {
      "name": "python3",
      "display_name": "Python 3"
    },
    "language_info": {
      "name": "python"
    }
  },
  "cells": [
    {
      "cell_type": "code",
      "execution_count": 11,
      "metadata": {
        "colab": {
          "base_uri": "https://localhost:8080/"
        },
        "id": "1_KnCACMyIVp",
        "outputId": "7f884903-93a3-48d7-c1ac-7bacbedfdb26"
      },
      "outputs": [
        {
          "output_type": "stream",
          "name": "stdout",
          "text": [
            "\"Jeswin Thomas\"Angadiparambil\n"
          ]
        }
      ],
      "source": [
        "x=\"\\\"Jeswin Thomas\\\"Angadiparambil\"\n",
        "print(x)"
      ]
    },
    {
      "cell_type": "code",
      "source": [
        "x='he\\'s a doctor'\n",
        "print(x)"
      ],
      "metadata": {
        "colab": {
          "base_uri": "https://localhost:8080/"
        },
        "id": "ryqoSOVSyV-Q",
        "outputId": "9e41290d-9efb-4ca7-99e0-0e0c4445e9f1"
      },
      "execution_count": 13,
      "outputs": [
        {
          "output_type": "stream",
          "name": "stdout",
          "text": [
            "he's a doctor\n"
          ]
        }
      ]
    },
    {
      "cell_type": "code",
      "source": [
        "print(\"Jeswin Thomas \\n Angadiparambil\")"
      ],
      "metadata": {
        "colab": {
          "base_uri": "https://localhost:8080/"
        },
        "id": "6451xhcNyoac",
        "outputId": "e4fbd8fe-25ae-4d1d-c8c9-9ecb3b67269a"
      },
      "execution_count": 19,
      "outputs": [
        {
          "output_type": "stream",
          "name": "stdout",
          "text": [
            "Jeswin Thomas \n",
            " Angadiparambil\n"
          ]
        }
      ]
    },
    {
      "cell_type": "code",
      "source": [
        "x=[\"John\",\"Mary\",\"David\",\"Adam\"]\n",
        "a=input(\"enter a name:\")\n",
        "p=int(input(\"Enter Index Position :\"))\n",
        "x.insert(p,a)\n",
        "print(x)"
      ],
      "metadata": {
        "colab": {
          "base_uri": "https://localhost:8080/"
        },
        "id": "KX2MBOmw1L2t",
        "outputId": "89e5ee06-7b12-4fcd-bbb6-708d24623ff0"
      },
      "execution_count": 20,
      "outputs": [
        {
          "output_type": "stream",
          "name": "stdout",
          "text": [
            "enter a name:Noel\n",
            "Enter Index Position :2\n",
            "['John', 'Mary', 'Noel', 'David', 'Adam']\n"
          ]
        }
      ]
    },
    {
      "cell_type": "code",
      "source": [
        "def Jeswin():\n",
        "  x=[\"John\",\"Mary\",\"David\",\"Adam\"]\n",
        "  a=input(\"enter a name:\")\n",
        "  p=int(input(\"Enter Index Position :\"))\n",
        "  x.insert(p,a)\n",
        "  print(x)"
      ],
      "metadata": {
        "id": "Xa4S0iHi11mp"
      },
      "execution_count": 21,
      "outputs": []
    },
    {
      "cell_type": "code",
      "source": [
        "Jeswin()"
      ],
      "metadata": {
        "colab": {
          "base_uri": "https://localhost:8080/"
        },
        "id": "eU863Fgu-KHu",
        "outputId": "dded59a3-af29-4b76-8df0-c7e669dae03f"
      },
      "execution_count": 23,
      "outputs": [
        {
          "output_type": "stream",
          "name": "stdout",
          "text": [
            "enter a name:Jeswin\n",
            "Enter Index Position :3\n",
            "['John', 'Mary', 'David', 'Jeswin', 'Adam']\n"
          ]
        }
      ]
    },
    {
      "cell_type": "code",
      "source": [
        "def Zahra(x,y):\n",
        "  print(x+y)\n",
        "  print(x-y)\n",
        "  print(x*y)\n",
        "  print(x/y)"
      ],
      "metadata": {
        "id": "v-WwAIA0-Mpm"
      },
      "execution_count": 26,
      "outputs": []
    },
    {
      "cell_type": "code",
      "source": [
        "Zahra()"
      ],
      "metadata": {
        "colab": {
          "base_uri": "https://localhost:8080/"
        },
        "id": "4GK-r1Xa_Xc9",
        "outputId": "f239faa2-5525-469e-99f7-9a108b70e493"
      },
      "execution_count": 25,
      "outputs": [
        {
          "output_type": "stream",
          "name": "stdout",
          "text": [
            "Enter a number: 5\n",
            "Enter another number: 2\n",
            "7\n",
            "3\n",
            "10\n",
            "2.5\n"
          ]
        }
      ]
    },
    {
      "cell_type": "code",
      "source": [
        "a=int(input(\"Enter a number: \"))\n",
        "b=int(input(\"Enter another number: \"))\n",
        "Zahra(a,b)"
      ],
      "metadata": {
        "colab": {
          "base_uri": "https://localhost:8080/"
        },
        "id": "dWIQX_F__aPq",
        "outputId": "2447c95d-2fc5-4bb8-bddb-5eb1b594ab88"
      },
      "execution_count": 27,
      "outputs": [
        {
          "output_type": "stream",
          "name": "stdout",
          "text": [
            "Enter a number: 5\n",
            "Enter another number: 2\n",
            "7\n",
            "3\n",
            "10\n",
            "2.5\n"
          ]
        }
      ]
    },
    {
      "cell_type": "code",
      "source": [
        "def add(x,y):\n",
        "  print(x+y)\n",
        "def sub(x,y):\n",
        "  print(x-y)\n",
        "def mul(x,y):\n",
        "  print(x*y)\n",
        "def div(x,y):\n",
        "  print(x/y)"
      ],
      "metadata": {
        "id": "LLPMk_ZRESll"
      },
      "execution_count": 29,
      "outputs": []
    },
    {
      "cell_type": "code",
      "source": [
        "a=int(input(\"Enter a number: \"))\n",
        "b=int(input(\"Enter another number: \"))\n",
        "add(a,b)\n",
        "sub(a,b)\n",
        "mul(a,b)\n",
        "div(a,b)"
      ],
      "metadata": {
        "colab": {
          "base_uri": "https://localhost:8080/"
        },
        "id": "XgmQ1s_OFqOC",
        "outputId": "66603a96-16f7-44f9-ce40-49af75970dff"
      },
      "execution_count": 30,
      "outputs": [
        {
          "output_type": "stream",
          "name": "stdout",
          "text": [
            "Enter a number: 11\n",
            "Enter another number: 22\n",
            "33\n",
            "-11\n",
            "242\n",
            "0.5\n"
          ]
        }
      ]
    },
    {
      "cell_type": "code",
      "source": [],
      "metadata": {
        "id": "XnHAHBC1II7P"
      },
      "execution_count": null,
      "outputs": []
    }
  ]
}